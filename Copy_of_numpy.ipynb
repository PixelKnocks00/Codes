{
  "nbformat": 4,
  "nbformat_minor": 0,
  "metadata": {
    "colab": {
      "provenance": [],
      "authorship_tag": "ABX9TyPyynlY8+CWhncuItijohhQ",
      "include_colab_link": true
    },
    "kernelspec": {
      "name": "python3",
      "display_name": "Python 3"
    },
    "language_info": {
      "name": "python"
    }
  },
  "cells": [
    {
      "cell_type": "markdown",
      "metadata": {
        "id": "view-in-github",
        "colab_type": "text"
      },
      "source": [
        "<a href=\"https://colab.research.google.com/github/PixelKnocks00/Codes/blob/main/Copy_of_numpy.ipynb\" target=\"_parent\"><img src=\"https://colab.research.google.com/assets/colab-badge.svg\" alt=\"Open In Colab\"/></a>"
      ]
    },
    {
      "cell_type": "code",
      "execution_count": 8,
      "metadata": {
        "id": "WCXJAVmSccY0",
        "colab": {
          "base_uri": "https://localhost:8080/"
        },
        "outputId": "756963a4-88b4-4231-8fd5-8e13a138258c"
      },
      "outputs": [
        {
          "output_type": "stream",
          "name": "stdout",
          "text": [
            "[[1 2 3]\n",
            " [4 5 6]\n",
            " [7 8 9]]\n",
            "[[1 4 7]\n",
            " [2 5 8]\n",
            " [3 6 9]]\n",
            "2\n"
          ]
        }
      ],
      "source": [
        "# ------------------------->Conversion from python structures\n",
        "import numpy as np\n",
        "# my_num=np.array([1,2,5,7,6])\n",
        "# # print(my_num[0])\n",
        "# my_num2=np.array([12,32,44,54],np.int16)  # The np.int etc tells that how much memory we need in pour program\n",
        "# # print(my_num2*5)\n",
        "# my_num3=np.array([[12,32,44,54]],np.int16)  # Now its a 2d array with two brackets\n",
        "# print(my_num3.shape) #It tells the shape of yr 2d array like how much col and ros it has\n",
        "# my_num3.dtype#It tells the amount of memory we are giving\n",
        "# my_num3[0,3]=45#changes the element\n",
        "# # print(my_num3)\n",
        "# my_num4=np.array([[1,2,3,4],[5,6,7,8],[9,10,11,12]])\n",
        "# print(my_num4)\n",
        "# print(my_num4.shape)\n",
        "# my_num4.dtype\n",
        "# ------------------------>Some array creation methods\n",
        "# zer=np.zeros((2,5)) #It will add zeroes on 2 rows and 5 columns on the scrren\n",
        "# zer\n",
        "# arr=np.arange(8,20)#It will generate numbers from 8 to 20\n",
        "# print(arr)\n",
        "# arr=np.arange(1,8+1).reshape(4,2)#The reshape will change the view to 4 rows , 2 colums\n",
        "# print(arr)\n",
        "x=np.array([[1,2,3],[4,5,6],[7,8,9]],np.int8)\n",
        "# arr=x.sum(axis=0)\n",
        "# print(arr)\n",
        "# conv_2_1d=x.flatten()\n",
        "# print(conv_2_1d)\n",
        "# for items in x.flat:\n",
        "#   print(items)\n",
        "# print(x.T)\n",
        "# print(x.ndim) # Tells the total dimensions of array\n",
        "# print(x.size)# Tells the total no of elements in array\n",
        "# print(x.nbytes)# Tells the total no of bytes consumed\n",
        "print(x)\n",
        "print(x.T)\n",
        "print(x.ndim)\n",
        "\n",
        "\n"
      ]
    },
    {
      "cell_type": "markdown",
      "source": [],
      "metadata": {
        "id": "EqDIkxkhFbNB"
      }
    },
    {
      "cell_type": "markdown",
      "source": [
        "🎀 There are axis in numpy or array .\n",
        "\n",
        " ---> The 0 axis means sum of **rows** (all the rows) seperately<br>\n",
        "\n",
        " ---> The 1 axis means sum of **columns** (all the columnss) seperately<br>\n",
        "\n",
        "🎀 Flat : It is used to convert 2d array back to 1d <br\n",
        "\n",
        "---> flatern is used to convert or print it on a single in horizontal\n",
        "\n",
        "---> using for loop eg (for items in x.flat) prints it in vertical line\n",
        "\n",
        "🎀 x.T : It will tranpose the array(rows to columns and columns to rows)\n",
        "\n",
        "🎀 x.ndim:Tells the dimensions of the array\n",
        "\n",
        "🎀 x.size:Tells the total no of elements in array\n",
        "\n",
        "🎀 x.nbytes:Tells the amount of bytes consumed by the compiler\n",
        "\n"
      ],
      "metadata": {
        "id": "bFU2j4DXDXFW"
      }
    }
  ]
}