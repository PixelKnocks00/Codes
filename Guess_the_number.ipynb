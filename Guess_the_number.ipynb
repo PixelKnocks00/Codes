{
  "cells": [
    {
      "cell_type": "markdown",
      "metadata": {
        "id": "view-in-github",
        "colab_type": "text"
      },
      "source": [
        "<a href=\"https://colab.research.google.com/github/PixelKnocks00/Codes/blob/main/Untitled2.ipynb\" target=\"_parent\"><img src=\"https://colab.research.google.com/assets/colab-badge.svg\" alt=\"Open In Colab\"/></a>"
      ]
    },
    {
      "cell_type": "code",
      "execution_count": 1,
      "metadata": {
        "colab": {
          "base_uri": "https://localhost:8080/"
        },
        "id": "NZXQaPdor6jx",
        "outputId": "59a5a15e-b54d-4daa-92c1-b0fdac32eeaa"
      },
      "outputs": [
        {
          "output_type": "stream",
          "name": "stdout",
          "text": [
            "Welcome to the game 😊\n",
            "In this game, you have to guess a number between 1 and 100 🎈\n",
            "You have 10 attempts. Best of luck! ✨\n",
            "Attempt 1: Enter your number: 25\n",
            "Try a greater number!\n",
            "Attempt 2: Enter your number: 50\n",
            "Try a greater number!\n",
            "Attempt 3: Enter your number: 70\n",
            "Try a smaller number!\n",
            "Attempt 4: Enter your number: 60\n",
            "Congratulations! You won the game 🎉\n"
          ]
        }
      ],
      "source": [
        "import random\n",
        "\n",
        "print(\"Welcome to the game 😊\")\n",
        "print(\"In this game, you have to guess a number between 1 and 100 🎈\")\n",
        "print(\"You have 10 attempts. Best of luck! ✨\")\n",
        "\n",
        "secret_number = random.randint(1, 100)\n",
        "\n",
        "for attempt in range(10):\n",
        "    guessed_no = int(input(f\"Attempt {attempt + 1}: Enter your number: \"))\n",
        "\n",
        "    if guessed_no == secret_number:\n",
        "        print(\"Congratulations! You won the game 🎉\")\n",
        "        break\n",
        "    elif guessed_no < secret_number:\n",
        "        print(\"Try a greater number!\")\n",
        "    else:\n",
        "        print(\"Try a smaller number!\")\n",
        "else:\n",
        "    print(f\"Game over! The correct number was {secret_number}.\")\n"
      ]
    }
  ],
  "metadata": {
    "colab": {
      "provenance": [],
      "authorship_tag": "ABX9TyOs9/k9VtxbJrmswzOUcG28",
      "include_colab_link": true
    },
    "kernelspec": {
      "display_name": "Python 3",
      "name": "python3"
    },
    "language_info": {
      "name": "python"
    }
  },
  "nbformat": 4,
  "nbformat_minor": 0
}
